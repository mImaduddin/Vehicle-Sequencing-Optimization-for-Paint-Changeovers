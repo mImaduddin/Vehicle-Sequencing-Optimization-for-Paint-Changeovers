{
 "cells": [
  {
   "cell_type": "markdown",
   "id": "3a65eba9",
   "metadata": {},
   "source": [
    "# Vehicle Sequence Optimization for Efficient Paint Changeovers\n",
    "### Using Genetic Algorithm, Simulated Annealing and Random Forrest Regression\n",
    "\n",
    "In this notebook, the aim is to minimize the number of color changeovers required when processing vehicles in sequence on a production line. We will explore three optimization approaches."
   ]
  },
  {
   "cell_type": "markdown",
   "id": "2b53028c",
   "metadata": {},
   "source": [
    "### Loading and Preprocessing Data\n",
    "\n",
    "Loading the vehicle data(vehicle's model, color, and batch number)"
   ]
  },
  {
   "cell_type": "code",
   "execution_count": 26,
   "id": "e477bee1-f7f6-409a-bff7-eb0e14cf600c",
   "metadata": {},
   "outputs": [],
   "source": [
    "import pandas as pd\n",
    "\n",
    "df = pd.read_csv('C:/Users/hp/Desktop/Sequence Optimization/seq_data.csv')"
   ]
  },
  {
   "cell_type": "code",
   "execution_count": 28,
   "id": "c4607460-7c4b-4589-b2d1-3288c5529ba5",
   "metadata": {},
   "outputs": [
    {
     "data": {
      "text/html": [
       "<div>\n",
       "<style scoped>\n",
       "    .dataframe tbody tr th:only-of-type {\n",
       "        vertical-align: middle;\n",
       "    }\n",
       "\n",
       "    .dataframe tbody tr th {\n",
       "        vertical-align: top;\n",
       "    }\n",
       "\n",
       "    .dataframe thead th {\n",
       "        text-align: right;\n",
       "    }\n",
       "</style>\n",
       "<table border=\"1\" class=\"dataframe\">\n",
       "  <thead>\n",
       "    <tr style=\"text-align: right;\">\n",
       "      <th></th>\n",
       "      <th>Vehicle_ID</th>\n",
       "      <th>Model</th>\n",
       "      <th>Color</th>\n",
       "      <th>Batch</th>\n",
       "    </tr>\n",
       "  </thead>\n",
       "  <tbody>\n",
       "    <tr>\n",
       "      <th>0</th>\n",
       "      <td>1</td>\n",
       "      <td>Corolla</td>\n",
       "      <td>Silver</td>\n",
       "      <td>2</td>\n",
       "    </tr>\n",
       "    <tr>\n",
       "      <th>1</th>\n",
       "      <td>2</td>\n",
       "      <td>Cross</td>\n",
       "      <td>Silver</td>\n",
       "      <td>C5</td>\n",
       "    </tr>\n",
       "    <tr>\n",
       "      <th>2</th>\n",
       "      <td>3</td>\n",
       "      <td>Corolla</td>\n",
       "      <td>White</td>\n",
       "      <td>1</td>\n",
       "    </tr>\n",
       "    <tr>\n",
       "      <th>3</th>\n",
       "      <td>4</td>\n",
       "      <td>IMV</td>\n",
       "      <td>Black</td>\n",
       "      <td>A3</td>\n",
       "    </tr>\n",
       "    <tr>\n",
       "      <th>4</th>\n",
       "      <td>5</td>\n",
       "      <td>Yaris</td>\n",
       "      <td>Silver</td>\n",
       "      <td>5</td>\n",
       "    </tr>\n",
       "  </tbody>\n",
       "</table>\n",
       "</div>"
      ],
      "text/plain": [
       "   Vehicle_ID    Model   Color Batch\n",
       "0           1  Corolla  Silver     2\n",
       "1           2    Cross  Silver    C5\n",
       "2           3  Corolla   White     1\n",
       "3           4      IMV   Black    A3\n",
       "4           5    Yaris  Silver     5"
      ]
     },
     "execution_count": 28,
     "metadata": {},
     "output_type": "execute_result"
    }
   ],
   "source": [
    "df.head()"
   ]
  },
  {
   "cell_type": "code",
   "execution_count": 3,
   "id": "3a29a987-d704-43d8-bceb-591d5d6945ac",
   "metadata": {},
   "outputs": [],
   "source": [
    "def load_vehicle_data(data):\n",
    "    \"\"\"\n",
    "    This function accepts a DataFrame with columns: 'Vehicle_ID', 'Model', 'Color', 'Batch'.\n",
    "    and returns the processed data for color, model, and batch.\n",
    "    \"\"\"\n",
    "    vehicle_data = data.copy()\n",
    "    \n",
    "    # Extract unique values for models, colors, and batches for easy reference\n",
    "    models = vehicle_data['Model'].unique()\n",
    "    colors = vehicle_data['Color'].unique()\n",
    "    batches = vehicle_data['Batch'].unique()\n",
    "\n",
    "    vehicle_data['Model_ID'] = vehicle_data['Model'].apply(lambda x: list(models).index(x))\n",
    "    vehicle_data['Color_ID'] = vehicle_data['Color'].apply(lambda x: list(colors).index(x))\n",
    "    vehicle_data['Batch_ID'] = vehicle_data['Batch'].apply(lambda x: list(batches).index(x))\n",
    "    \n",
    "    return vehicle_data, models, colors, batches"
   ]
  },
  {
   "cell_type": "code",
   "execution_count": 30,
   "id": "ab702b32-63bd-4cdf-bfb2-6fa725675686",
   "metadata": {},
   "outputs": [
    {
     "name": "stdout",
     "output_type": "stream",
     "text": [
      "    Vehicle_ID    Model   Color Batch  Model_ID  Color_ID  Batch_ID\n",
      "0            1  Corolla  Silver     2         0         0         0\n",
      "1            2    Cross  Silver    C5         1         0         1\n",
      "2            3  Corolla   White     1         0         1         2\n",
      "3            4      IMV   Black    A3         2         2         3\n",
      "4            5    Yaris  Silver     5         3         0         4\n",
      "..         ...      ...     ...   ...       ...       ...       ...\n",
      "95          96    Yaris  Silver     4         3         0         7\n",
      "96          97  Corolla   White     1         0         1         2\n",
      "97          98    Cross   White    C3         1         1        23\n",
      "98          99    Yaris  Silver     4         3         0         7\n",
      "99         100      IMV  Silver    A5         2         0        16\n",
      "\n",
      "[100 rows x 7 columns]\n"
     ]
    }
   ],
   "source": [
    "vehicle_data = load_vehicle_data(df)[0]\n",
    "print(vehicle_data)"
   ]
  },
  {
   "cell_type": "markdown",
   "id": "5871760e",
   "metadata": {},
   "source": [
    "### Define Constraints\n",
    "\n",
    "To minimize the number of color changeovers and keep the batches and model types as continuous as possible. The following two functions calculate penalties for color changeovers and batch/model discontinuities:"
   ]
  },
  {
   "cell_type": "code",
   "execution_count": 36,
   "id": "88ccb728-0eed-4aca-b1e0-a799bdb978a2",
   "metadata": {},
   "outputs": [],
   "source": [
    "def calculate_color_changes(sequence, vehicle_data):\n",
    "    color_changes = 0\n",
    "    for i in range(len(sequence) - 1):\n",
    "        if vehicle_data.loc[sequence[i], 'Color_ID'] != vehicle_data.loc[sequence[i + 1], 'Color_ID']:\n",
    "            color_changes += 1\n",
    "    return color_changes\n",
    "\n",
    "def calculate_batch_model_penalty(sequence, vehicle_data):\n",
    "    batch_penalty = 0\n",
    "    model_penalty = 0\n",
    "    for i in range(len(sequence) - 1):\n",
    "        # Check batch continuity\n",
    "        if vehicle_data.loc[sequence[i], 'Batch_ID'] != vehicle_data.loc[sequence[i + 1], 'Batch_ID']:\n",
    "            batch_penalty += 1\n",
    "        # Check model continuity\n",
    "        if vehicle_data.loc[sequence[i], 'Model_ID'] != vehicle_data.loc[sequence[i + 1], 'Model_ID']:\n",
    "            model_penalty += 1\n",
    "    return batch_penalty + model_penalty"
   ]
  },
  {
   "cell_type": "markdown",
   "id": "97504cbe",
   "metadata": {},
   "source": [
    "### Implementing the Genetic Algorithm\n",
    "\n",
    "We start with a random population of sequences and iteratively refine them. The algorithm selects, crosses, and mutates sequences based on a fitness function that combines color changeovers and continuity penalties.\n",
    "Each generation, the algorithm selects the best sequences and applies crossover and mutation to create new sequences."
   ]
  },
  {
   "cell_type": "code",
   "execution_count": 34,
   "id": "442a4833-e49e-447f-90fd-299fdb030d08",
   "metadata": {},
   "outputs": [],
   "source": [
    "import random\n",
    "import matplotlib.pyplot as plt\n",
    "\n",
    "def fitness(sequence, vehicle_data, weight_color=1.0, weight_batch_model=0.5):\n",
    "    color_changes = calculate_color_changes(sequence, vehicle_data)\n",
    "    batch_model_penalty = calculate_batch_model_penalty(sequence, vehicle_data)\n",
    "    # Total fitness with weights for color changes and batch/model penalties\n",
    "    return weight_color * color_changes + weight_batch_model * batch_model_penalty\n",
    "\n",
    "def genetic_algorithm(vehicle_data, num_generations=10000, population_size=20, mutation_rate=0.05):\n",
    "\n",
    "    # Genetic algorithm to optimize vehicle sequence for minimal color changeovers and continuity.\n",
    "\n",
    "    num_vehicles = len(vehicle_data)\n",
    "    population = [random.sample(range(num_vehicles), num_vehicles) for _ in range(population_size)]\n",
    "    best_fitness_progress = []\n",
    "    \n",
    "    for generation in range(num_generations):\n",
    "        population = sorted(population, key=lambda seq: fitness(seq, vehicle_data))\n",
    "        \n",
    "        best_fitness = fitness(population[0], vehicle_data)\n",
    "        best_fitness_progress.append(best_fitness)\n",
    "\n",
    "        next_gen = population[:population_size // 2]\n",
    "        \n",
    "        while len(next_gen) < population_size:\n",
    "            parent1, parent2 = random.sample(next_gen, 2)\n",
    "            child = crossover(parent1, parent2)\n",
    "            if random.random() < mutation_rate:\n",
    "                child = mutate(child)\n",
    "            next_gen.append(child)\n",
    "        \n",
    "        population = next_gen\n",
    "    \n",
    "   \n",
    "    best_sequence = min(population, key=lambda seq: fitness(seq, vehicle_data))\n",
    "    \n",
    "    plt.plot(range(num_generations), best_fitness_progress, marker='o')\n",
    "    plt.xlabel('Generation')\n",
    "    plt.ylabel('Best Fitness Score')\n",
    "    plt.title('Genetic Algorithm Progress Over Generations')\n",
    "    plt.grid(True)\n",
    "    plt.show()\n",
    "    \n",
    "    return best_sequence\n",
    "\n",
    "def crossover(parent1, parent2):\n",
    "    point = random.randint(1, len(parent1) - 2)\n",
    "    child = parent1[:point] + [item for item in parent2 if item not in parent1[:point]]\n",
    "    return child\n",
    "\n",
    "def mutate(sequence):\n",
    "    idx1, idx2 = random.sample(range(len(sequence)), 2)\n",
    "    sequence[idx1], sequence[idx2] = sequence[idx2], sequence[idx1]\n",
    "    return sequence"
   ]
  },
  {
   "cell_type": "code",
   "execution_count": 40,
   "id": "f676f4ec-ed85-4bf2-8c38-84e7f5369c2f",
   "metadata": {},
   "outputs": [
    {
     "data": {
      "image/png": "[encoded data removed]",
      "text/plain": [
       "<Figure size 640x480 with 1 Axes>"
      ]
     },
     "metadata": {},
     "output_type": "display_data"
    }
   ],
   "source": [
    "optseq_genetic = genetic_algorithm(vehicle_data)"
   ]
  },
  {
   "cell_type": "code",
   "execution_count": 51,
   "id": "788ff994-1aa6-4101-a0cd-d61248cccda5",
   "metadata": {},
   "outputs": [
    {
     "name": "stdout",
     "output_type": "stream",
     "text": [
      "Color Changeovers: 26\n"
     ]
    }
   ],
   "source": [
    "actual_color_changes = calculate_color_changes(optseq_genetic, vehicle_data)\n",
    "\n",
    "print(\"Color Changeovers:\", actual_color_changes)"
   ]
  },
  {
   "cell_type": "markdown",
   "id": "289a23c7",
   "metadata": {},
   "source": [
    "### Implementing Simulated Annealing\n",
    "\n",
    "Simulated Annealing is a probabilistic technique inspired by the annealing process in metallurgy."
   ]
  },
  {
   "cell_type": "code",
   "execution_count": 41,
   "id": "9802cb33-34a2-4ab0-9073-613dcd5ded39",
   "metadata": {},
   "outputs": [],
   "source": [
    "import math\n",
    "\n",
    "def simulated_annealing(vehicle_data, initial_temp=1000, cooling_rate=0.995, max_iter=1000):\n",
    "    num_vehicles = len(vehicle_data)\n",
    "    current_sequence = random.sample(range(num_vehicles), num_vehicles)\n",
    "    current_fitness = fitness(current_sequence, vehicle_data)\n",
    "    best_sequence = current_sequence\n",
    "    best_fitness = current_fitness\n",
    "\n",
    "    fitness_progress = []\n",
    "\n",
    "    temp = initial_temp\n",
    "    \n",
    "    for iteration in range(max_iter):\n",
    "        fitness_progress.append(best_fitness)\n",
    "        \n",
    "        neighbor_sequence = current_sequence[:]\n",
    "        idx1, idx2 = random.sample(range(num_vehicles), 2)\n",
    "        neighbor_sequence[idx1], neighbor_sequence[idx2] = neighbor_sequence[idx2], neighbor_sequence[idx1]\n",
    "        \n",
    "        neighbor_fitness = fitness(neighbor_sequence, vehicle_data)\n",
    "        \n",
    "        if neighbor_fitness < current_fitness:\n",
    "            current_sequence = neighbor_sequence\n",
    "            current_fitness = neighbor_fitness\n",
    "        else:\n",
    "            acceptance_prob = math.exp((current_fitness - neighbor_fitness) / temp)\n",
    "            if acceptance_prob > random.random():\n",
    "                current_sequence = neighbor_sequence\n",
    "                current_fitness = neighbor_fitness\n",
    "\n",
    "        if current_fitness < best_fitness:\n",
    "            best_sequence = current_sequence\n",
    "            best_fitness = current_fitness\n",
    "\n",
    "        temp *= cooling_rate\n",
    "\n",
    "    plt.plot(range(max_iter), fitness_progress, marker='o')\n",
    "    plt.xlabel('Iteration')\n",
    "    plt.ylabel('Best Fitness Score')\n",
    "    plt.title('Simulated Annealing Progress Over Iterations')\n",
    "    plt.grid(True)\n",
    "    plt.show()\n",
    "    \n",
    "    return best_sequence, best_fitness"
   ]
  },
  {
   "cell_type": "code",
   "execution_count": 53,
   "id": "b2b7f1e8-0be0-406d-956d-2a6c49d0b048",
   "metadata": {},
   "outputs": [
    {
     "data": {
      "image/png": "[encoded data removed]",
      "text/plain": [
       "<Figure size 640x480 with 1 Axes>"
      ]
     },
     "metadata": {},
     "output_type": "display_data"
    }
   ],
   "source": [
    "best_sequence, best_fitness = simulated_annealing(vehicle_data, initial_temp=1000, cooling_rate=0.995, max_iter=10000)"
   ]
  },
  {
   "cell_type": "code",
   "execution_count": 55,
   "id": "9eb47edb-1737-46a5-83ef-52a2ef6ef197",
   "metadata": {},
   "outputs": [
    {
     "name": "stdout",
     "output_type": "stream",
     "text": [
      "Color Changeovers: 26\n"
     ]
    }
   ],
   "source": [
    "actual_color_changes = calculate_color_changes(optseq_genetic, vehicle_data)\n",
    "\n",
    "print(\"Color Changeovers:\", actual_color_changes)"
   ]
  },
  {
   "cell_type": "markdown",
   "id": "ac118cce",
   "metadata": {},
   "source": [
    "### Machine Learning, Random Forrest Regression model for Cost Prediction\n",
    "\n",
    "Here we use machine learning to predict sequence costs. We generate training data by assessing random sequences with our fitness function, then train a Random Forest regression model to estimate costs."
   ]
  },
  {
   "cell_type": "code",
   "execution_count": 57,
   "id": "5d0d1b24-e8a4-4d4e-81db-b1b9739b4f8e",
   "metadata": {},
   "outputs": [],
   "source": [
    "import pandas as pd\n",
    "\n",
    "def generate_training_data(vehicle_data, num_samples=500):\n",
    "    num_vehicles = len(vehicle_data)\n",
    "    training_data = []\n",
    "    \n",
    "    for _ in range(num_samples):\n",
    "        sequence = random.sample(range(num_vehicles), num_vehicles)\n",
    "        cost = fitness(sequence, vehicle_data)\n",
    "        training_data.append((sequence, cost))\n",
    "    \n",
    "    training_df = pd.DataFrame(training_data, columns=['Sequence', 'Cost'])\n",
    "    return training_df"
   ]
  },
  {
   "cell_type": "code",
   "execution_count": 59,
   "id": "ca928df2-f906-4685-90c1-35b68598ba2b",
   "metadata": {},
   "outputs": [],
   "source": [
    "training_df = generate_training_data(vehicle_data, num_samples=1000)"
   ]
  },
  {
   "cell_type": "code",
   "execution_count": 60,
   "id": "16b89989-2b3d-402b-8965-f0a5aa50ab3f",
   "metadata": {},
   "outputs": [],
   "source": [
    "from sklearn.ensemble import RandomForestRegressor\n",
    "from sklearn.model_selection import train_test_split\n",
    "from sklearn.metrics import mean_squared_error\n",
    "\n",
    "def prepare_features_and_train(training_df, vehicle_data):\n",
    "    features = []\n",
    "    labels = training_df['Cost']\n",
    "    \n",
    "    for sequence in training_df['Sequence']:\n",
    "        color_changes = calculate_color_changes(sequence, vehicle_data)\n",
    "        batch_model_penalty = calculate_batch_model_penalty(sequence, vehicle_data)\n",
    "        features.append([color_changes, batch_model_penalty])\n",
    "  \n",
    "    X_train, X_test, y_train, y_test = train_test_split(features, labels, test_size=0.2, random_state=42)\n",
    "    model = RandomForestRegressor(n_estimators=100, random_state=42)\n",
    "    model.fit(X_train, y_train)\n",
    "    y_pred = model.predict(X_test)\n",
    "    mse = mean_squared_error(y_test, y_pred)\n",
    "    print(\"Model Mean Squared Error:\", mse)\n",
    "    \n",
    "    return model"
   ]
  },
  {
   "cell_type": "code",
   "execution_count": 63,
   "id": "fc0efa12-b564-44d7-a8f6-ed85fbd4197b",
   "metadata": {},
   "outputs": [
    {
     "name": "stdout",
     "output_type": "stream",
     "text": [
      "Model Mean Squared Error: 0.0851792500000001\n"
     ]
    }
   ],
   "source": [
    "model = prepare_features_and_train(training_df, vehicle_data)"
   ]
  },
  {
   "cell_type": "code",
   "execution_count": 65,
   "id": "5917e98e-49d1-436d-b87f-0f6ab6842a5c",
   "metadata": {},
   "outputs": [],
   "source": [
    "def generate_candidate_sequences(vehicle_data, model, num_candidates=100):\n",
    "    num_vehicles = len(vehicle_data)\n",
    "    candidates = []\n",
    "    \n",
    "    for _ in range(num_candidates):\n",
    "        sequence = random.sample(range(num_vehicles), num_vehicles)\n",
    "        color_changes = calculate_color_changes(sequence, vehicle_data)\n",
    "        batch_model_penalty = calculate_batch_model_penalty(sequence, vehicle_data)\n",
    "        features = [[color_changes, batch_model_penalty]]\n",
    "        predicted_cost = model.predict(features)[0]\n",
    "        candidates.append((sequence, predicted_cost))\n",
    "   \n",
    "    candidates = sorted(candidates, key=lambda x: x[1])\n",
    "    return candidates"
   ]
  },
  {
   "cell_type": "code",
   "execution_count": 67,
   "id": "b8f9c1d1-2430-486c-a928-1fb7b3dd1c3d",
   "metadata": {},
   "outputs": [],
   "source": [
    "candidates = generate_candidate_sequences(vehicle_data, model, num_candidates=100)"
   ]
  },
  {
   "cell_type": "code",
   "execution_count": 69,
   "id": "c8ea92de-3cf0-4379-b61a-dca9c3b788e2",
   "metadata": {},
   "outputs": [],
   "source": [
    "def optimize_sequence_with_ml(vehicle_data, model, num_candidates=100, top_k=10):\n",
    "    best_sequence = None\n",
    "    best_predicted_cost = float('inf')\n",
    "    \n",
    "    candidates = generate_candidate_sequences(vehicle_data, model, num_candidates=num_candidates)\n",
    "    top_candidates = candidates[:top_k]\n",
    "    for sequence, predicted_cost in top_candidates:\n",
    "        if predicted_cost < best_predicted_cost:\n",
    "            best_sequence = sequence\n",
    "            best_predicted_cost = predicted_cost\n",
    "    \n",
    "    print(\"Best Predicted Cost:\", best_predicted_cost)\n",
    "    print(\"Optimized Sequence:\", best_sequence)\n",
    "    return best_sequence, best_predicted_cost\n"
   ]
  },
  {
   "cell_type": "code",
   "execution_count": 75,
   "id": "58ca1d09-c053-4c74-aab3-72efbe02c700",
   "metadata": {},
   "outputs": [
    {
     "name": "stdout",
     "output_type": "stream",
     "text": [
      "Best Predicted Cost: 130.235\n",
      "Optimized Sequence: [9, 67, 77, 18, 50, 87, 94, 41, 17, 73, 55, 21, 3, 90, 10, 7, 40, 92, 37, 35, 60, 39, 4, 49, 75, 57, 69, 51, 24, 0, 25, 85, 36, 96, 66, 1, 33, 23, 93, 79, 43, 30, 14, 42, 61, 6, 12, 16, 29, 34, 45, 98, 22, 20, 32, 28, 76, 64, 48, 63, 27, 84, 46, 38, 13, 68, 8, 70, 53, 47, 11, 97, 15, 54, 89, 62, 52, 80, 88, 83, 81, 56, 26, 44, 78, 82, 65, 99, 95, 74, 72, 31, 19, 86, 58, 2, 5, 59, 91, 71]\n",
      "Color Changeovers: 57\n"
     ]
    }
   ],
   "source": [
    "best_sequence, best_predicted_cost = optimize_sequence_with_ml(vehicle_data, model, num_candidates=10000, top_k=10)\n",
    "actual_color_changes = calculate_color_changes(best_sequence, vehicle_data)\n",
    "\n",
    "print(\"Color Changeovers:\", actual_color_changes)"
   ]
  },
  {
   "cell_type": "markdown",
   "id": "adb1e8e1",
   "metadata": {},
   "source": [
    "### Conclusion\n",
    "\n",
    "In this notebook we investigated two optimization strategies and a machine learning technique to minimize color changeovers in vehicle sequencing:\n",
    "\n",
    "- The **Genetic Algorithm** effectively achieved balanced solutions through iterative refinement.\n",
    "- **Simulated Annealing** explored nearby solutions and produced reasonable results, though its convergence was heavily reliant on the cooling rate.\n",
    "- The **Machine Learning (Random Forest)** approach predicted sequence costs, aiding in rapid identification of promising sequences, but was less adaptable in real-time compared to the Genetic Algorithm.\n",
    "\n",
    "### Final Recommendation:\n",
    "The **Genetic Algorithm** is recommended as the most effective approach for this challenge, with its population-based strategy and iterative improvement playing key roles in optimization."
   ]
  }
 ],
 "metadata": {
  "kernelspec": {
   "display_name": "Python 3 (ipykernel)",
   "language": "python",
   "name": "python3"
  },
  "language_info": {
   "codemirror_mode": {
    "name": "ipython",
    "version": 3
   },
   "file_extension": ".py",
   "mimetype": "text/x-python",
   "name": "python",
   "nbconvert_exporter": "python",
   "pygments_lexer": "ipython3",
   "version": "3.12.7"
  }
 },
 "nbformat": 4,
 "nbformat_minor": 5
}
